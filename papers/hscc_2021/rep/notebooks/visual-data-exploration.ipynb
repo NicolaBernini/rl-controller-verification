{
 "cells": [
  {
   "cell_type": "markdown",
   "metadata": {},
   "source": [
    "# Visual data exploration and extraction"
   ]
  },
  {
   "cell_type": "markdown",
   "metadata": {},
   "source": [
    "The rest of the process, ie visual data exploration, data extraction and formatting for the paper can be reproduced thanks to this notebook.\n",
    "\n",
    "We don't provide the part on training and testing in the reproducibility package due to the size of the data and the computation budget it requires to rerun the experiments. All the results of these experiments are in the file `aggregated_all.csv` (that must be extracted from `data/aggregated_all.7z`)."
   ]
  },
  {
   "cell_type": "markdown",
   "metadata": {},
   "source": [
    "## Import the packages"
   ]
  },
  {
   "cell_type": "code",
   "execution_count": null,
   "metadata": {},
   "outputs": [],
   "source": [
    "import make_hiplot as mh\n",
    "%matplotlib inline"
   ]
  },
  {
   "cell_type": "markdown",
   "metadata": {},
   "source": [
    "## Unzip the aggregated_all.csv"
   ]
  },
  {
   "cell_type": "code",
   "execution_count": null,
   "metadata": {},
   "outputs": [],
   "source": [
    "from pathlib import Path\n",
    "import py7zr\n",
    "p = Path(\"tmp\")\n",
    "p.mkdir(exist_ok=True)\n",
    "with py7zr.SevenZipFile(\"data/aggregated_all.7z\", 'r') as archive:\n",
    "    archive.extractall(path=\"tmp\")\n",
    "source = Path(\"tmp/aggregated_all.csv\")\n",
    "destination = Path(\"aggregated_all.csv\")\n",
    "source.replace(destination)\n",
    "p.rmdir()"
   ]
  },
  {
   "cell_type": "markdown",
   "metadata": {},
   "source": [
    "## Create the directories for the results"
   ]
  },
  {
   "cell_type": "code",
   "execution_count": null,
   "metadata": {},
   "outputs": [],
   "source": [
    "from pathlib import Path\n",
    "p1 = Path(\"network_selections/\")\n",
    "p2 = Path(\"generated_tables/\")\n",
    "p3 = Path(\"generated_figures/\")\n",
    "for p in [p1,p2,p3]:\n",
    "    p.mkdir(exist_ok=True)"
   ]
  },
  {
   "cell_type": "markdown",
   "metadata": {},
   "source": [
    "## Create the dataframe mean_aggregated_all.csv and the html mean_by_checkpoint.html"
   ]
  },
  {
   "cell_type": "code",
   "execution_count": null,
   "metadata": {},
   "outputs": [],
   "source": [
    "mh.create_hiplot()"
   ]
  },
  {
   "cell_type": "markdown",
   "metadata": {},
   "source": [
    "Open the generated html file \"mean_by_checkpoint.html\" with web browser (Chrome is prefered). The columns are separated into two types: \n",
    "* the parameters used on the left : [\"nb_neurons\", \"nb_layers\", \"algo\", \"pid_rates\", \"thrust\", \"p\", \"training_windgust_magnitude_max\", \"test_windgust_magnitude_max\", \"training_saturation_motor\", \"test_saturation_motor\", \"nof_training_iterations\"] \n",
    "* the performances associated on the right : [\"OK rising t.\", \"OK off.\", \"OK overshoot\", \"avg rising t.\", \"avg off.\", \"avg overshoot\", \"max rising t.\", \"max off.\", \"max overshoot\"]. \n",
    "*****\n",
    "Here is an explanation for how to use the parameters in the hiplot:\n",
    "* \"algo\" represents the algorithm used: can be \"sac\", \"ddpg\", \"ppo\" or \"td3\", however in order to take only sac, you also need to set the pid_rates to \"None\".\n",
    "* \"p\" is the boolean that defines the presence of \"p\" in the observable states.\n",
    "* \"thrust\" is the boolean that defines the presence of \"thrust\" in the observable states.\n",
    "* Here are the different observation spaces available:\n",
    "     * for a 3D observation_space : {\"p\": False, \"thrust\": False}\n",
    "     * for a 6D observation_space : {\"p\": True, \"thrust\": False}\n",
    "     * for a 7D observation_space : {\"p\": True, \"thrust\": True}\n",
    "* \"pid_rates\" is the pid used, it can take different values:\n",
    "     * \"None\" for any RL algo,\n",
    "     * \"pid_rates_original\" for pid1, \n",
    "     * \"pid_rates_better\" for pid2.\n",
    "* Both for training and test parameters:\n",
    "     * the \"windgust_magnitude_max\" should be set to 10 for windgust mode and 1 for nominal mode (1 is the default value but the windgust is not taken into account at all in the nominal mode)\n",
    "     * the \"saturaion\" should be set to 0.8 in saturation mode and 1 in nominal mode\n",
    "* \"nof_training_iterations\" corresponds to the number of iterations the RL controller got before being evaluated.\n",
    "***\n",
    "For the performances, there are three types of metrics:\n",
    "* rising t. is the rising time\n",
    "    * OK rising t. corresponds to the percentage of times the signal reaches the tube of 5 % around the query\n",
    "    * avg rising t. is the average time it took to reach the tube whenever it succeeded to reach it\n",
    "    * max rising t. is the maximum time it took to reach the tube whenever it succeeded to reach it\n",
    "* off. is the offset\n",
    "    * OK off. is the percentage of times it doesn't go beyond the tube of 10% around the query after a stabilisation time.\n",
    "    * avg off. is the average of the maximum differences between the signal and the query after a stabilisation time.\n",
    "    * max off. is the maximum of the maximum differences between the signal and the query after a stabilisation time.\n",
    "* overshoot is the overshoot\n",
    "    * OK overshoot is the percentage of times it doesn't go beyond the tube of 10% around the query before a stabilisation time.\n",
    "    * avg overshoot is the average of the maximum differences between the signal and the query before a stabilisation time.\n",
    "    * max overshoot is the maximum of the maximum differences between the signal and the query before a stabilisation time.\n",
    "    "
   ]
  },
  {
   "cell_type": "markdown",
   "metadata": {},
   "source": [
    "## Import the code to generate the tables and the figures"
   ]
  },
  {
   "cell_type": "code",
   "execution_count": null,
   "metadata": {},
   "outputs": [],
   "source": [
    "import generation_tables as gt\n",
    "import gen_nn_sel as gns\n",
    "import generation_figures as gf"
   ]
  },
  {
   "cell_type": "markdown",
   "metadata": {},
   "source": [
    "## Network selections\n",
    "The name of each function is the same as the one of the file generated"
   ]
  },
  {
   "cell_type": "code",
   "execution_count": null,
   "metadata": {
    "scrolled": true
   },
   "outputs": [],
   "source": [
    "gns.architecture_sac_perfo()\n",
    "gns.ddpg_best()\n",
    "gns.ppo_best()\n",
    "gns.td3_best()\n",
    "gns.sac_best()\n",
    "gns.pid_best()\n",
    "gns.ddpg_sac_saturation_test_saturation()\n",
    "gns.ddpg_sac_windgust_test_nominal()\n",
    "gns.ddpg_sac_windgust_test_windgust()\n",
    "gns.ddpg_saturation_test_nominal()\n",
    "gns.nominal_test_saturation()\n",
    "gns.nominal_test_windgust()\n",
    "gns.pid_test_saturation()\n",
    "gns.pid_test_windgust()\n",
    "gns.sac_3D()\n",
    "gns.sac_6D()\n",
    "gns.sac_7D()\n",
    "gns.sac_32_32()\n",
    "gns.sac_saturation_test_nominal()\n",
    "\n",
    "\n"
   ]
  },
  {
   "cell_type": "markdown",
   "metadata": {},
   "source": [
    "## Generation of the tables"
   ]
  },
  {
   "cell_type": "code",
   "execution_count": null,
   "metadata": {
    "scrolled": true
   },
   "outputs": [],
   "source": [
    "gt.table1()\n",
    "gt.table2()\n",
    "gt.table3()\n",
    "gt.table4()\n",
    "gt.table5()\n",
    "gt.table5()\n",
    "gt.table6()\n",
    "gt.table7()"
   ]
  },
  {
   "cell_type": "markdown",
   "metadata": {},
   "source": [
    "## Generation of the figures"
   ]
  },
  {
   "cell_type": "code",
   "execution_count": null,
   "metadata": {},
   "outputs": [],
   "source": [
    "gf.figure3()\n",
    "gf.figure4()\n",
    "gf.figure5()\n",
    "gf.figure6()"
   ]
  }
 ],
 "metadata": {
  "kernelspec": {
   "display_name": "Python 3",
   "language": "python",
   "name": "python3"
  },
  "language_info": {
   "codemirror_mode": {
    "name": "ipython",
    "version": 3
   },
   "file_extension": ".py",
   "mimetype": "text/x-python",
   "name": "python",
   "nbconvert_exporter": "python",
   "pygments_lexer": "ipython3",
   "version": "3.6.10"
  }
 },
 "nbformat": 4,
 "nbformat_minor": 4
}
