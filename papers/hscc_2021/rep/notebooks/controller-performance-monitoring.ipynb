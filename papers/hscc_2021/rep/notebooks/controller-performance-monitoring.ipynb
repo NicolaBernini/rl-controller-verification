{
 "cells": [
  {
   "cell_type": "markdown",
   "metadata": {},
   "source": [
    "# STL evaluation and performance metrics evaluation\n",
    "\n",
    "This notebook allows you to run the `PerfObserver` on several examples and produce plots.\n",
    "For each selected configuration, observers are run for all axes (p, q, r) against a single episode,\n",
    "computed performance metrics are reported, and a plot is produced for each metric of interest (stable plateau detection, stepsize calculation, overshoot value, offset property, rising time property, etc.).\n",
    "\n",
    "The process we use to produce the synthetic data presented in the paper is depicted in the figure below.\n",
    "\n",
    "The raw traces are stored in the `data/testing` folder.\n",
    "\n",
    "This phase of the process is storage and compute-intensive so in this\n",
    "notebook we only sample a number of configurations, then compute and\n",
    "display the performance metrics. It demonstrates that we have indeed\n",
    "the means to compute synthetic performance metrics mentioned in the\n",
    "paper."
   ]
  },
  {
   "cell_type": "markdown",
   "metadata": {},
   "source": [
    "<img src=\"data/HSCC2021-RE.png\">"
   ]
  },
  {
   "cell_type": "code",
   "execution_count": null,
   "metadata": {},
   "outputs": [],
   "source": [
    "import matplotlib.pyplot as plt"
   ]
  },
  {
   "cell_type": "markdown",
   "metadata": {},
   "source": [
    "The parent `python_scripts` folder contains:\n",
    "- `pwcsignalnumba.py`: A class representing a piecewise\n",
    "  constant signal, used as the basic representation of sampled signals\n",
    "  from simulations for STL evaluation.\n",
    "- `props.py`: STL property observer code, generated from\n",
    "  STL specifications using our in-house STL code generator.\n",
    "- `perf_observer.py`: A wrapper class that uses the\n",
    "  props.py observer and gathers statistics and provide plotting\n",
    "  functionality."
   ]
  },
  {
   "cell_type": "code",
   "execution_count": null,
   "metadata": {},
   "outputs": [],
   "source": [
    "from perf_observer import load_signals, PerfObserver "
   ]
  },
  {
   "cell_type": "code",
   "execution_count": null,
   "metadata": {},
   "outputs": [],
   "source": [
    "params = PerfObserver.default_prop_params()\n",
    "tlimit = None\n",
    "episodes = ['PID/better,main/test_nominal/log/checkpoint_1/episode_0',\n",
    "'PID/better,main/test_saturation/log/checkpoint_30/episode_0',\n",
    "'PID/better,main/test_windgust/log/checkpoint_30/episode_0',\n",
    "'ALGO/ddpg/LAYER/16x16/OBSERVED/ep,eq,er/N3000000/log/checkpoint_30/episode_0',\n",
    "'ALGO/ddpg/LAYER/16x16/OBSERVED/ep,eq,er,saturation/N3000000/log/checkpoint_30/episode_0',\n",
    "'ALGO/ddpg/LAYER/16x16/OBSERVED/ep,eq,er,wgx,wgy,wgz,wga/N3000000/log/checkpoint_30/episode_0',\n",
    "'ALGO/ddpg/LAYER/16x16x16/OBSERVED/ep,eq,er/N3000000/log/checkpoint_30/episode_0',\n",
    "'ALGO/ddpg/LAYER/16x16x16x16/OBSERVED/ep,eq,er/N3000000/log/checkpoint_30/episode_0',\n",
    "'ALGO/sac/LAYER/16x16/OBSERVED/ep,eq,er/N3000000/log/checkpoint_30/episode_0',\n",
    "'ALGO/sac/LAYER/16x16/OBSERVED/ep,eq,er,saturation/N3000000/log/checkpoint_30/episode_0',\n",
    "'ALGO/sac/LAYER/16x16/OBSERVED/ep,eq,er,wgx,wgy,wgz,wga/N3000000/log/checkpoint_30/episode_0',\n",
    "'ALGO/sac/LAYER/16x16x16/OBSERVED/ep,eq,er/N3000000/log/checkpoint_30/episode_0',\n",
    "'ALGO/sac/LAYER/16x16x16x16/OBSERVED/ep,eq,er/N3000000/log/checkpoint_30/episode_0',\n",
    "'ALGO/td3/LAYER/16x16/OBSERVED/ep,eq,er/N3000000/log/checkpoint_30/episode_0',\n",
    "'ALGO/td3/LAYER/16x16x16/OBSERVED/ep,eq,er/N3000000/log/checkpoint_30/episode_0',\n",
    "'ALGO/td3/LAYER/16x16x16x16/OBSERVED/ep,eq,er/N3000000/log/checkpoint_30/episode_0',\n",
    "'NOMINAL/nn,n/ALGO/ddpg/LAYER/16x16/OBSERVED/ep,eq,er,saturation/N3000000/log/checkpoint_30/episode_0',\n",
    "'NOMINAL/nn,n/ALGO/ddpg/LAYER/16x16/OBSERVED/ep,eq,er,wgx,wgy,wgz,wga/N3000000/log/checkpoint_30/episode_0',\n",
    "'NOMINAL/nn,n/ALGO/ddpg/LAYER/32x32/OBSERVED/ep,eq,er,saturation/N3000000/log/checkpoint_30/episode_0',\n",
    "'NOMINAL/nn,n/ALGO/ddpg/LAYER/32x32/OBSERVED/ep,eq,er,wgx,wgy,wgz,wga/N3000000/log/checkpoint_30/episode_0',\n",
    "'NOMINAL/nn,n/ALGO/sac/LAYER/16x16/OBSERVED/ep,eq,er,saturation/N3000000/log/checkpoint_30/episode_0',\n",
    "'NOMINAL/nn,n/ALGO/sac/LAYER/16x16/OBSERVED/ep,eq,er,wgx,wgy,wgz,wga/N3000000/log/checkpoint_30/episode_0',\n",
    "'NOMINAL/nn,n/ALGO/sac/LAYER/32x32/OBSERVED/ep,eq,er,saturation/N3000000/log/checkpoint_30/episode_0',\n",
    "'NOMINAL/nn,n/ALGO/sac/LAYER/32x32/OBSERVED/ep,eq,er,wgx,wgy,wgz,wga/N3000000/log/checkpoint_30/episode_0',\n",
    "'NOMINAL/n,nn/ALGO/sac/LAYER/16x16/OBSERVED/ep,eq,er/TESTS/saturation/log/checkpoint_30/episode_0',\n",
    "'NOMINAL/n,nn/ALGO/sac/LAYER/16x16/OBSERVED/ep,eq,er/TESTS/windgust/log/checkpoint_30/episode_0',\n",
    "'NOMINAL/n,nn/ALGO/sac/LAYER/32x32/OBSERVED/ep,eq,er/TESTS/saturation/log/checkpoint_30/episode_0',\n",
    "'NOMINAL/n,nn/ALGO/sac/LAYER/32x32/OBSERVED/ep,eq,er/TESTS/windgust/log/checkpoint_30/episode_0',\n",
    "'NOMINAL/n,nn/ALGO/sac/LAYER/64x64/OBSERVED/ep,eq,er/TESTS/saturation/log/checkpoint_30/episode_0',\n",
    "'NOMINAL/n,nn/ALGO/sac/LAYER/64x64/OBSERVED/ep,eq,er/TESTS/windgust/log/checkpoint_30/episode_0']\n"
   ]
  },
  {
   "cell_type": "markdown",
   "metadata": {},
   "source": [
    "The signal computed by the property observer at each step is in\n",
    "magental, signal in blue and query in green."
   ]
  },
  {
   "cell_type": "code",
   "execution_count": null,
   "metadata": {
    "tags": []
   },
   "outputs": [],
   "source": [
    "po = PerfObserver(10000, params)\n",
    "qo = PerfObserver(10000, params)\n",
    "ro = PerfObserver(10000, params)\n",
    "\n",
    "for file in episodes:\n",
    "    po.reset_stats()\n",
    "    qo.reset_stats()\n",
    "    ro.reset_stats()\n",
    "    signals = load_signals('data/testing/' + file + '.', t_is_hex=True, tlimit=tlimit)\n",
    "    # instanciate\n",
    "    t = signals['t']\n",
    "    r = signals['r']\n",
    "    qr = signals['query_r']\n",
    "    p = signals['p']\n",
    "    qp = signals['query_p']\n",
    "    q = signals['q']\n",
    "    qq = signals['query_q']\n",
    "    ro.observe(t, r, qr, save_eval = True)\n",
    "    po.observe(t, p, qp, save_eval = True)\n",
    "    qo.observe(t, q, qq, save_eval = True)\n",
    "    print(\"------------------\")\n",
    "    print(file)\n",
    "    print(\"----- p axis-----\")\n",
    "    print(po.get_stats_dict())\n",
    "    po.all_plots()\n",
    "    print(\"----- q axis-----\")\n",
    "    print(qo.get_stats_dict())\n",
    "    qo.all_plots()\n",
    "    print(\"----- r axis-----\")\n",
    "    print(ro.get_stats_dict())\n",
    "    ro.all_plots()\n",
    "    print(\"------------------\")\n",
    "      \n",
    "\n"
   ]
  }
 ],
 "metadata": {
  "kernelspec": {
   "display_name": "Python 3",
   "language": "python",
   "name": "python3"
  },
  "language_info": {
   "codemirror_mode": {
    "name": "ipython",
    "version": 3
   },
   "file_extension": ".py",
   "mimetype": "text/x-python",
   "name": "python",
   "nbconvert_exporter": "python",
   "pygments_lexer": "ipython3",
   "version": "3.6.10"
  }
 },
 "nbformat": 4,
 "nbformat_minor": 4
}
